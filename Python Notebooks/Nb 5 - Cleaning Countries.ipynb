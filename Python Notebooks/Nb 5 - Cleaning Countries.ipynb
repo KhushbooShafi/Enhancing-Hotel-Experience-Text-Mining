{
 "cells": [
  {
   "cell_type": "markdown",
   "id": "47a4a462",
   "metadata": {},
   "source": [
    "# Cleaning the data for Countries"
   ]
  },
  {
   "cell_type": "code",
   "execution_count": 44,
   "id": "976ad63c",
   "metadata": {
    "ExecuteTime": {
     "end_time": "2023-04-03T02:53:17.574692Z",
     "start_time": "2023-04-03T02:53:10.884624Z"
    }
   },
   "outputs": [
    {
     "name": "stdout",
     "output_type": "stream",
     "text": [
      "Collecting geopyNote: you may need to restart the kernel to use updated packages.\n"
     ]
    },
    {
     "name": "stderr",
     "output_type": "stream",
     "text": [
      "WARNING: Ignoring invalid distribution -umpy (c:\\programdata\\anaconda3\\lib\\site-packages)\n",
      "WARNING: Ignoring invalid distribution -umpy (c:\\programdata\\anaconda3\\lib\\site-packages)\n",
      "WARNING: Ignoring invalid distribution -umpy (c:\\programdata\\anaconda3\\lib\\site-packages)\n",
      "WARNING: Ignoring invalid distribution -umpy (c:\\programdata\\anaconda3\\lib\\site-packages)\n",
      "WARNING: Ignoring invalid distribution -umpy (c:\\programdata\\anaconda3\\lib\\site-packages)\n",
      "WARNING: Ignoring invalid distribution -umpy (c:\\programdata\\anaconda3\\lib\\site-packages)\n",
      "WARNING: Ignoring invalid distribution -umpy (c:\\programdata\\anaconda3\\lib\\site-packages)\n",
      "WARNING: Ignoring invalid distribution -umpy (c:\\programdata\\anaconda3\\lib\\site-packages)\n",
      "\n",
      "[notice] A new release of pip available: 22.2.2 -> 23.0.1\n",
      "[notice] To update, run: python.exe -m pip install --upgrade pip\n"
     ]
    },
    {
     "name": "stdout",
     "output_type": "stream",
     "text": [
      "\n",
      "  Downloading geopy-2.3.0-py3-none-any.whl (119 kB)\n",
      "     -------------------------------------- 119.8/119.8 kB 6.8 MB/s eta 0:00:00\n",
      "Collecting geographiclib<3,>=1.52\n",
      "  Downloading geographiclib-2.0-py3-none-any.whl (40 kB)\n",
      "     ---------------------------------------- 40.3/40.3 kB ? eta 0:00:00\n",
      "Installing collected packages: geographiclib, geopy\n",
      "Successfully installed geographiclib-2.0 geopy-2.3.0\n"
     ]
    }
   ],
   "source": [
    "pip install geopy"
   ]
  },
  {
   "cell_type": "code",
   "execution_count": null,
   "id": "0918f32c",
   "metadata": {},
   "outputs": [],
   "source": [
    "import pandas as pd"
   ]
  },
  {
   "cell_type": "code",
   "execution_count": null,
   "id": "2a51087e",
   "metadata": {},
   "outputs": [],
   "source": [
    "data = pd.read_csv(\"Complete_Sentiment_Scores_TripAdvisor_English_Reviews_Seoul_Hotels.csv\")"
   ]
  },
  {
   "cell_type": "code",
   "execution_count": 45,
   "id": "daa12866",
   "metadata": {
    "ExecuteTime": {
     "end_time": "2023-04-03T02:56:02.049924Z",
     "start_time": "2023-04-03T02:56:01.937229Z"
    }
   },
   "outputs": [],
   "source": [
    "from geopy.geocoders import Nominatim\n",
    "from geopy.exc import GeocoderTimedOut"
   ]
  },
  {
   "cell_type": "code",
   "execution_count": 48,
   "id": "252452d7",
   "metadata": {
    "ExecuteTime": {
     "end_time": "2023-04-03T03:03:12.323754Z",
     "start_time": "2023-04-03T03:03:12.316775Z"
    }
   },
   "outputs": [],
   "source": [
    "def get_country(location):\n",
    "    geolocator = Nominatim(user_agent=\"my_application\")\n",
    "    try:\n",
    "        location = geolocator.geocode(location, timeout=10)\n",
    "        if location is not None:\n",
    "            return location.address.split(',')[-1].strip()\n",
    "        else:\n",
    "            return None\n",
    "    except GeocoderTimedOut:\n",
    "        return None"
   ]
  },
  {
   "cell_type": "code",
   "execution_count": 49,
   "id": "a6294410",
   "metadata": {
    "ExecuteTime": {
     "end_time": "2023-04-03T11:08:16.727677Z",
     "start_time": "2023-04-03T03:03:17.171748Z"
    }
   },
   "outputs": [],
   "source": [
    "data[\"clean countries\"] = data[\"country\"].apply(get_country)"
   ]
  },
  {
   "cell_type": "code",
   "execution_count": 51,
   "id": "771d35af",
   "metadata": {
    "ExecuteTime": {
     "end_time": "2023-04-04T01:27:23.157406Z",
     "start_time": "2023-04-04T01:27:21.234529Z"
    }
   },
   "outputs": [],
   "source": [
    "data.to_csv(\"country.csv\", index = False)"
   ]
  },
  {
   "cell_type": "markdown",
   "id": "7a512731",
   "metadata": {},
   "source": [
    "Note: There were few more changes that were made in the excel to the above file and thus we have the following as the final dataset file."
   ]
  },
  {
   "cell_type": "code",
   "execution_count": 45,
   "id": "cc2f887a",
   "metadata": {
    "ExecuteTime": {
     "end_time": "2023-04-04T06:14:13.605566Z",
     "start_time": "2023-04-04T06:14:12.592332Z"
    }
   },
   "outputs": [],
   "source": [
    "data = pd.read_csv(\"Complete_Data_TripAdvisor.csv\",encoding = 'unicode_escape')"
   ]
  },
  {
   "cell_type": "code",
   "execution_count": 46,
   "id": "8af19a46",
   "metadata": {
    "ExecuteTime": {
     "end_time": "2023-04-04T06:14:14.563029Z",
     "start_time": "2023-04-04T06:14:14.533082Z"
    }
   },
   "outputs": [
    {
     "data": {
      "text/html": [
       "<div>\n",
       "<style scoped>\n",
       "    .dataframe tbody tr th:only-of-type {\n",
       "        vertical-align: middle;\n",
       "    }\n",
       "\n",
       "    .dataframe tbody tr th {\n",
       "        vertical-align: top;\n",
       "    }\n",
       "\n",
       "    .dataframe thead th {\n",
       "        text-align: right;\n",
       "    }\n",
       "</style>\n",
       "<table border=\"1\" class=\"dataframe\">\n",
       "  <thead>\n",
       "    <tr style=\"text-align: right;\">\n",
       "      <th></th>\n",
       "      <th>Hotel</th>\n",
       "      <th>reviewer_name</th>\n",
       "      <th>country</th>\n",
       "      <th>clean countries</th>\n",
       "      <th>rating</th>\n",
       "      <th>date_of_stay</th>\n",
       "      <th>date_review_written</th>\n",
       "      <th>clean_reviews</th>\n",
       "      <th>clean_reviews Positive Sentiment Score</th>\n",
       "      <th>clean_reviews Negative Sentiment Score</th>\n",
       "      <th>clean_reviews Neutral Sentiment Score</th>\n",
       "      <th>clean_reviews Compound Sentiment Score</th>\n",
       "      <th>sentiment</th>\n",
       "      <th>word_count</th>\n",
       "      <th>word_count_scaled</th>\n",
       "      <th>preprocessed_reviews</th>\n",
       "      <th>topic_label</th>\n",
       "    </tr>\n",
       "  </thead>\n",
       "  <tbody>\n",
       "    <tr>\n",
       "      <th>33554</th>\n",
       "      <td>Nine_Tree_Hotel_Myeong_dong</td>\n",
       "      <td>Loksan</td>\n",
       "      <td>China</td>\n",
       "      <td>China</td>\n",
       "      <td>4.0</td>\n",
       "      <td>14-Dec</td>\n",
       "      <td>15-Jan</td>\n",
       "      <td>Excellent location We from Hong Kong and this ...</td>\n",
       "      <td>0.248</td>\n",
       "      <td>0.000</td>\n",
       "      <td>0.752</td>\n",
       "      <td>0.953</td>\n",
       "      <td>Positive</td>\n",
       "      <td>57.0</td>\n",
       "      <td>-0.583918185</td>\n",
       "      <td>location first time visit join local tour tree...</td>\n",
       "      <td>0</td>\n",
       "    </tr>\n",
       "    <tr>\n",
       "      <th>39067</th>\n",
       "      <td>Prince_Hotel_Seoul</td>\n",
       "      <td>Icebaby0126</td>\n",
       "      <td>Singapore</td>\n",
       "      <td>Singapore</td>\n",
       "      <td>5.0</td>\n",
       "      <td>17-Sep</td>\n",
       "      <td>17-Sep</td>\n",
       "      <td>Fantastic location , helpful staff I stayed at...</td>\n",
       "      <td>0.146</td>\n",
       "      <td>0.024</td>\n",
       "      <td>0.830</td>\n",
       "      <td>0.972</td>\n",
       "      <td>Positive</td>\n",
       "      <td>183.0</td>\n",
       "      <td>0.46811102</td>\n",
       "      <td>fantastic location helpful staff stay night ex...</td>\n",
       "      <td>6</td>\n",
       "    </tr>\n",
       "    <tr>\n",
       "      <th>3670</th>\n",
       "      <td>Conrad_Seoul</td>\n",
       "      <td>Benjamin S</td>\n",
       "      <td>Singapore</td>\n",
       "      <td>Singapore</td>\n",
       "      <td>5.0</td>\n",
       "      <td>15-Jan</td>\n",
       "      <td>15-Jan</td>\n",
       "      <td>An absolute respite to the buzz of Seoul. Havi...</td>\n",
       "      <td>0.180</td>\n",
       "      <td>0.038</td>\n",
       "      <td>0.782</td>\n",
       "      <td>0.985</td>\n",
       "      <td>Positive</td>\n",
       "      <td>209.0</td>\n",
       "      <td>0.685196412</td>\n",
       "      <td>absolute respite buzz spend prior day city cen...</td>\n",
       "      <td>2</td>\n",
       "    </tr>\n",
       "    <tr>\n",
       "      <th>17754</th>\n",
       "      <td>Hotel_Skypark_Central_Myeongdong</td>\n",
       "      <td>Hafq</td>\n",
       "      <td>Nottingham</td>\n",
       "      <td>United Kingdom</td>\n",
       "      <td>5.0</td>\n",
       "      <td>16-Aug</td>\n",
       "      <td>16-Aug</td>\n",
       "      <td>Great hotel Great Location Really helpful staf...</td>\n",
       "      <td>0.418</td>\n",
       "      <td>0.000</td>\n",
       "      <td>0.582</td>\n",
       "      <td>0.982</td>\n",
       "      <td>Positive</td>\n",
       "      <td>47.0</td>\n",
       "      <td>-0.667412566</td>\n",
       "      <td>location helpful staff fantastic location lot ...</td>\n",
       "      <td>0</td>\n",
       "    </tr>\n",
       "  </tbody>\n",
       "</table>\n",
       "</div>"
      ],
      "text/plain": [
       "                                  Hotel reviewer_name     country  \\\n",
       "33554       Nine_Tree_Hotel_Myeong_dong        Loksan       China   \n",
       "39067                Prince_Hotel_Seoul   Icebaby0126   Singapore   \n",
       "3670                       Conrad_Seoul    Benjamin S   Singapore   \n",
       "17754  Hotel_Skypark_Central_Myeongdong          Hafq  Nottingham   \n",
       "\n",
       "      clean countries  rating date_of_stay date_review_written  \\\n",
       "33554           China     4.0       14-Dec              15-Jan   \n",
       "39067       Singapore     5.0       17-Sep              17-Sep   \n",
       "3670        Singapore     5.0       15-Jan              15-Jan   \n",
       "17754  United Kingdom     5.0       16-Aug              16-Aug   \n",
       "\n",
       "                                           clean_reviews  \\\n",
       "33554  Excellent location We from Hong Kong and this ...   \n",
       "39067  Fantastic location , helpful staff I stayed at...   \n",
       "3670   An absolute respite to the buzz of Seoul. Havi...   \n",
       "17754  Great hotel Great Location Really helpful staf...   \n",
       "\n",
       "       clean_reviews Positive Sentiment Score  \\\n",
       "33554                                   0.248   \n",
       "39067                                   0.146   \n",
       "3670                                    0.180   \n",
       "17754                                   0.418   \n",
       "\n",
       "       clean_reviews Negative Sentiment Score  \\\n",
       "33554                                   0.000   \n",
       "39067                                   0.024   \n",
       "3670                                    0.038   \n",
       "17754                                   0.000   \n",
       "\n",
       "       clean_reviews Neutral Sentiment Score  \\\n",
       "33554                                  0.752   \n",
       "39067                                  0.830   \n",
       "3670                                   0.782   \n",
       "17754                                  0.582   \n",
       "\n",
       "      clean_reviews Compound Sentiment Score sentiment  word_count  \\\n",
       "33554                                 0.953   Positive        57.0   \n",
       "39067                                 0.972   Positive       183.0   \n",
       "3670                                  0.985   Positive       209.0   \n",
       "17754                                 0.982   Positive        47.0   \n",
       "\n",
       "      word_count_scaled                               preprocessed_reviews  \\\n",
       "33554      -0.583918185  location first time visit join local tour tree...   \n",
       "39067        0.46811102  fantastic location helpful staff stay night ex...   \n",
       "3670        0.685196412  absolute respite buzz spend prior day city cen...   \n",
       "17754      -0.667412566  location helpful staff fantastic location lot ...   \n",
       "\n",
       "      topic_label  \n",
       "33554           0  \n",
       "39067           6  \n",
       "3670            2  \n",
       "17754           0  "
      ]
     },
     "execution_count": 46,
     "metadata": {},
     "output_type": "execute_result"
    }
   ],
   "source": [
    "data.sample(4)"
   ]
  },
  {
   "cell_type": "code",
   "execution_count": null,
   "id": "2e0efcbf",
   "metadata": {},
   "outputs": [],
   "source": []
  },
  {
   "cell_type": "code",
   "execution_count": null,
   "id": "a14ebdb4",
   "metadata": {},
   "outputs": [],
   "source": []
  },
  {
   "cell_type": "code",
   "execution_count": null,
   "id": "50fbdff2",
   "metadata": {},
   "outputs": [],
   "source": []
  },
  {
   "cell_type": "code",
   "execution_count": null,
   "id": "873c4b3f",
   "metadata": {},
   "outputs": [],
   "source": []
  },
  {
   "cell_type": "code",
   "execution_count": null,
   "id": "f9baf8b3",
   "metadata": {},
   "outputs": [],
   "source": []
  },
  {
   "cell_type": "code",
   "execution_count": null,
   "id": "1fcd6d21",
   "metadata": {},
   "outputs": [],
   "source": []
  }
 ],
 "metadata": {
  "kernelspec": {
   "display_name": "Python 3 (ipykernel)",
   "language": "python",
   "name": "python3"
  },
  "language_info": {
   "codemirror_mode": {
    "name": "ipython",
    "version": 3
   },
   "file_extension": ".py",
   "mimetype": "text/x-python",
   "name": "python",
   "nbconvert_exporter": "python",
   "pygments_lexer": "ipython3",
   "version": "3.9.12"
  },
  "varInspector": {
   "cols": {
    "lenName": 16,
    "lenType": 16,
    "lenVar": 40
   },
   "kernels_config": {
    "python": {
     "delete_cmd_postfix": "",
     "delete_cmd_prefix": "del ",
     "library": "var_list.py",
     "varRefreshCmd": "print(var_dic_list())"
    },
    "r": {
     "delete_cmd_postfix": ") ",
     "delete_cmd_prefix": "rm(",
     "library": "var_list.r",
     "varRefreshCmd": "cat(var_dic_list()) "
    }
   },
   "types_to_exclude": [
    "module",
    "function",
    "builtin_function_or_method",
    "instance",
    "_Feature"
   ],
   "window_display": false
  }
 },
 "nbformat": 4,
 "nbformat_minor": 5
}
