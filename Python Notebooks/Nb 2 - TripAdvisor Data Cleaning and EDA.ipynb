{
 "cells": [
  {
   "cell_type": "markdown",
   "id": "c311e899",
   "metadata": {},
   "source": [
    "# Cleaning the Data"
   ]
  },
  {
   "cell_type": "code",
   "execution_count": 1,
   "id": "38021036",
   "metadata": {
    "ExecuteTime": {
     "end_time": "2023-04-04T03:15:24.562389Z",
     "start_time": "2023-04-04T03:15:22.550806Z"
    }
   },
   "outputs": [],
   "source": [
    "import warnings\n",
    "warnings.filterwarnings('ignore')\n",
    "import pandas as pd\n",
    "import numpy as np\n",
    "import re\n",
    "import csv\n",
    "from matplotlib import pyplot as plt\n",
    "from nltk.corpus import stopwords\n",
    "import seaborn as sns"
   ]
  },
  {
   "cell_type": "code",
   "execution_count": 2,
   "id": "d4767de9",
   "metadata": {
    "ExecuteTime": {
     "end_time": "2023-03-23T07:11:12.023157Z",
     "start_time": "2023-03-23T07:11:11.309345Z"
    }
   },
   "outputs": [
    {
     "name": "stdout",
     "output_type": "stream",
     "text": [
      "(50178, 7)\n"
     ]
    },
    {
     "data": {
      "text/html": [
       "<div>\n",
       "<style scoped>\n",
       "    .dataframe tbody tr th:only-of-type {\n",
       "        vertical-align: middle;\n",
       "    }\n",
       "\n",
       "    .dataframe tbody tr th {\n",
       "        vertical-align: top;\n",
       "    }\n",
       "\n",
       "    .dataframe thead th {\n",
       "        text-align: right;\n",
       "    }\n",
       "</style>\n",
       "<table border=\"1\" class=\"dataframe\">\n",
       "  <thead>\n",
       "    <tr style=\"text-align: right;\">\n",
       "      <th></th>\n",
       "      <th>Hotel</th>\n",
       "      <th>Title</th>\n",
       "      <th>Date</th>\n",
       "      <th>Reviewer</th>\n",
       "      <th>Location</th>\n",
       "      <th>Rating</th>\n",
       "      <th>Review</th>\n",
       "    </tr>\n",
       "  </thead>\n",
       "  <tbody>\n",
       "    <tr>\n",
       "      <th>0</th>\n",
       "      <td>9Brick_Hotel</td>\n",
       "      <td>Love the look</td>\n",
       "      <td>Date of stay: December 2022</td>\n",
       "      <td>ChristelleNg wrote a review Jan 2023</td>\n",
       "      <td>Singapore, Singapore</td>\n",
       "      <td>40</td>\n",
       "      <td>Location not too bad. Near the Hongik station....</td>\n",
       "    </tr>\n",
       "    <tr>\n",
       "      <th>1</th>\n",
       "      <td>9Brick_Hotel</td>\n",
       "      <td>Very bad experience</td>\n",
       "      <td>Date of stay: December 2022</td>\n",
       "      <td>Molly123 wrote a review Dec 2022</td>\n",
       "      <td>NaN</td>\n",
       "      <td>10</td>\n",
       "      <td>I asked the hotel to provide another set of co...</td>\n",
       "    </tr>\n",
       "    <tr>\n",
       "      <th>2</th>\n",
       "      <td>9Brick_Hotel</td>\n",
       "      <td>Chic design</td>\n",
       "      <td>Date of stay: October 2019</td>\n",
       "      <td>wamysdottir wrote a review Apr 2020</td>\n",
       "      <td>Copenhagen, Denmark</td>\n",
       "      <td>40</td>\n",
       "      <td>A clean boutique hotel conveniently located wi...</td>\n",
       "    </tr>\n",
       "    <tr>\n",
       "      <th>3</th>\n",
       "      <td>9Brick_Hotel</td>\n",
       "      <td>Great location but weak service standards</td>\n",
       "      <td>Date of stay: December 2019</td>\n",
       "      <td>worldtraveller wrote a review Dec 2019</td>\n",
       "      <td>NaN</td>\n",
       "      <td>30</td>\n",
       "      <td>Let me start with what I like about the hotel....</td>\n",
       "    </tr>\n",
       "    <tr>\n",
       "      <th>4</th>\n",
       "      <td>9Brick_Hotel</td>\n",
       "      <td>Never better</td>\n",
       "      <td>Date of stay: November 2019</td>\n",
       "      <td>Hui Yingg wrote a review Nov 2019</td>\n",
       "      <td>Sydney, Australia</td>\n",
       "      <td>40</td>\n",
       "      <td>This hotel exceeded my expectations in terms o...</td>\n",
       "    </tr>\n",
       "  </tbody>\n",
       "</table>\n",
       "</div>"
      ],
      "text/plain": [
       "          Hotel                                      Title  \\\n",
       "0  9Brick_Hotel                              Love the look   \n",
       "1  9Brick_Hotel                        Very bad experience   \n",
       "2  9Brick_Hotel                                Chic design   \n",
       "3  9Brick_Hotel  Great location but weak service standards   \n",
       "4  9Brick_Hotel                               Never better   \n",
       "\n",
       "                          Date                                Reviewer  \\\n",
       "0  Date of stay: December 2022    ChristelleNg wrote a review Jan 2023   \n",
       "1  Date of stay: December 2022        Molly123 wrote a review Dec 2022   \n",
       "2   Date of stay: October 2019     wamysdottir wrote a review Apr 2020   \n",
       "3  Date of stay: December 2019  worldtraveller wrote a review Dec 2019   \n",
       "4  Date of stay: November 2019       Hui Yingg wrote a review Nov 2019   \n",
       "\n",
       "               Location  Rating  \\\n",
       "0  Singapore, Singapore      40   \n",
       "1                   NaN      10   \n",
       "2   Copenhagen, Denmark      40   \n",
       "3                   NaN      30   \n",
       "4     Sydney, Australia      40   \n",
       "\n",
       "                                              Review  \n",
       "0  Location not too bad. Near the Hongik station....  \n",
       "1  I asked the hotel to provide another set of co...  \n",
       "2  A clean boutique hotel conveniently located wi...  \n",
       "3  Let me start with what I like about the hotel....  \n",
       "4  This hotel exceeded my expectations in terms o...  "
      ]
     },
     "execution_count": 2,
     "metadata": {},
     "output_type": "execute_result"
    }
   ],
   "source": [
    "data = pd.read_csv(\"TripAdvisor_English_Reviews_Seoul_Hotels.csv\")\n",
    "print(data.shape)\n",
    "data.head()"
   ]
  },
  {
   "cell_type": "markdown",
   "id": "dcbb538f",
   "metadata": {},
   "source": [
    "#### Combine Title and Reviews Columns"
   ]
  },
  {
   "cell_type": "code",
   "execution_count": 3,
   "id": "3db67683",
   "metadata": {
    "ExecuteTime": {
     "end_time": "2023-03-23T07:11:15.286708Z",
     "start_time": "2023-03-23T07:11:15.183982Z"
    }
   },
   "outputs": [
    {
     "data": {
      "text/html": [
       "<div>\n",
       "<style scoped>\n",
       "    .dataframe tbody tr th:only-of-type {\n",
       "        vertical-align: middle;\n",
       "    }\n",
       "\n",
       "    .dataframe tbody tr th {\n",
       "        vertical-align: top;\n",
       "    }\n",
       "\n",
       "    .dataframe thead th {\n",
       "        text-align: right;\n",
       "    }\n",
       "</style>\n",
       "<table border=\"1\" class=\"dataframe\">\n",
       "  <thead>\n",
       "    <tr style=\"text-align: right;\">\n",
       "      <th></th>\n",
       "      <th>Hotel</th>\n",
       "      <th>Date</th>\n",
       "      <th>Reviewer</th>\n",
       "      <th>Location</th>\n",
       "      <th>Rating</th>\n",
       "      <th>Review_cmplt</th>\n",
       "    </tr>\n",
       "  </thead>\n",
       "  <tbody>\n",
       "    <tr>\n",
       "      <th>0</th>\n",
       "      <td>9Brick_Hotel</td>\n",
       "      <td>Date of stay: December 2022</td>\n",
       "      <td>ChristelleNg wrote a review Jan 2023</td>\n",
       "      <td>Singapore, Singapore</td>\n",
       "      <td>40</td>\n",
       "      <td>Love the look Location not too bad. Near the H...</td>\n",
       "    </tr>\n",
       "    <tr>\n",
       "      <th>1</th>\n",
       "      <td>9Brick_Hotel</td>\n",
       "      <td>Date of stay: December 2022</td>\n",
       "      <td>Molly123 wrote a review Dec 2022</td>\n",
       "      <td>NaN</td>\n",
       "      <td>10</td>\n",
       "      <td>Very bad experience I asked the hotel to provi...</td>\n",
       "    </tr>\n",
       "    <tr>\n",
       "      <th>2</th>\n",
       "      <td>9Brick_Hotel</td>\n",
       "      <td>Date of stay: October 2019</td>\n",
       "      <td>wamysdottir wrote a review Apr 2020</td>\n",
       "      <td>Copenhagen, Denmark</td>\n",
       "      <td>40</td>\n",
       "      <td>Chic design A clean boutique hotel convenientl...</td>\n",
       "    </tr>\n",
       "    <tr>\n",
       "      <th>3</th>\n",
       "      <td>9Brick_Hotel</td>\n",
       "      <td>Date of stay: December 2019</td>\n",
       "      <td>worldtraveller wrote a review Dec 2019</td>\n",
       "      <td>NaN</td>\n",
       "      <td>30</td>\n",
       "      <td>Great location but weak service standards Let ...</td>\n",
       "    </tr>\n",
       "    <tr>\n",
       "      <th>4</th>\n",
       "      <td>9Brick_Hotel</td>\n",
       "      <td>Date of stay: November 2019</td>\n",
       "      <td>Hui Yingg wrote a review Nov 2019</td>\n",
       "      <td>Sydney, Australia</td>\n",
       "      <td>40</td>\n",
       "      <td>Never better This hotel exceeded my expectatio...</td>\n",
       "    </tr>\n",
       "  </tbody>\n",
       "</table>\n",
       "</div>"
      ],
      "text/plain": [
       "          Hotel                         Date  \\\n",
       "0  9Brick_Hotel  Date of stay: December 2022   \n",
       "1  9Brick_Hotel  Date of stay: December 2022   \n",
       "2  9Brick_Hotel   Date of stay: October 2019   \n",
       "3  9Brick_Hotel  Date of stay: December 2019   \n",
       "4  9Brick_Hotel  Date of stay: November 2019   \n",
       "\n",
       "                                 Reviewer              Location  Rating  \\\n",
       "0    ChristelleNg wrote a review Jan 2023  Singapore, Singapore      40   \n",
       "1        Molly123 wrote a review Dec 2022                   NaN      10   \n",
       "2     wamysdottir wrote a review Apr 2020   Copenhagen, Denmark      40   \n",
       "3  worldtraveller wrote a review Dec 2019                   NaN      30   \n",
       "4       Hui Yingg wrote a review Nov 2019     Sydney, Australia      40   \n",
       "\n",
       "                                        Review_cmplt  \n",
       "0  Love the look Location not too bad. Near the H...  \n",
       "1  Very bad experience I asked the hotel to provi...  \n",
       "2  Chic design A clean boutique hotel convenientl...  \n",
       "3  Great location but weak service standards Let ...  \n",
       "4  Never better This hotel exceeded my expectatio...  "
      ]
     },
     "execution_count": 3,
     "metadata": {},
     "output_type": "execute_result"
    }
   ],
   "source": [
    "data[\"Review_cmplt\"] = data[\"Title\"]+\" \"+ data[\"Review\"]\n",
    "data.drop([\"Title\",\"Review\"], axis = 1, inplace = True)\n",
    "data.head()"
   ]
  },
  {
   "cell_type": "markdown",
   "id": "0d55e5d2",
   "metadata": {},
   "source": [
    "#### Checking for null values "
   ]
  },
  {
   "cell_type": "code",
   "execution_count": 4,
   "id": "4581a815",
   "metadata": {
    "ExecuteTime": {
     "end_time": "2023-03-23T07:11:17.499687Z",
     "start_time": "2023-03-23T07:11:17.473755Z"
    }
   },
   "outputs": [
    {
     "data": {
      "text/plain": [
       "Hotel              0\n",
       "Date              90\n",
       "Reviewer           0\n",
       "Location        9189\n",
       "Rating             0\n",
       "Review_cmplt       3\n",
       "dtype: int64"
      ]
     },
     "execution_count": 4,
     "metadata": {},
     "output_type": "execute_result"
    }
   ],
   "source": [
    "data.isna().sum()"
   ]
  },
  {
   "cell_type": "code",
   "execution_count": 5,
   "id": "0764398c",
   "metadata": {
    "ExecuteTime": {
     "end_time": "2023-03-23T07:11:18.452687Z",
     "start_time": "2023-03-23T07:11:18.411760Z"
    }
   },
   "outputs": [
    {
     "data": {
      "text/plain": [
       "Hotel              0\n",
       "Date              90\n",
       "Reviewer           0\n",
       "Location        9188\n",
       "Rating             0\n",
       "Review_cmplt       0\n",
       "dtype: int64"
      ]
     },
     "execution_count": 5,
     "metadata": {},
     "output_type": "execute_result"
    }
   ],
   "source": [
    "#Since dropping a small number will not affect the dataset, I will drop the rows with null values for Review_complt column.\n",
    "\n",
    "#will deal with Location and Date column later\n",
    "\n",
    "data.dropna(subset=['Review_cmplt'],inplace = True)\n",
    "data.isna().sum()"
   ]
  },
  {
   "cell_type": "markdown",
   "id": "2ef1a18f",
   "metadata": {},
   "source": [
    "#### Cleaning Data:\n",
    "\n",
    "1. In the Date column, remove \"Date of stay\"\n",
    "2. Keep only English words in Review_complt column\n",
    "3. Keep only name of the reviewer\n",
    "4. Make a column for the date of the review written\n",
    "5. Keep only the country name in the location column\n",
    "6. Get the ratings out of 5"
   ]
  },
  {
   "cell_type": "code",
   "execution_count": 6,
   "id": "0d5e0f87",
   "metadata": {
    "ExecuteTime": {
     "end_time": "2023-03-23T07:11:21.166936Z",
     "start_time": "2023-03-23T07:11:21.153957Z"
    }
   },
   "outputs": [],
   "source": [
    "# Defining functions to clean the data\n",
    "\n",
    "def clean_date(text):\n",
    "    try:\n",
    "        return re.sub(r'Date of stay:', \"\",text).strip()\n",
    "    except:\n",
    "        return None\n",
    "\n",
    "def clean_reviews(text):\n",
    "    \"\"\"\n",
    "    This will remove only the non english characters and not anything else including punctuation marks.\n",
    "    Punctuation marks and capital letter play an important role in Sentiment Analysis.\n",
    "    \"\"\"\n",
    "    text = re.sub(\"[^A-Za-z0-9|\\(\\)\\,\\!\\[\\]\\'\\\"\\.\\-\\{\\}\\?]+\", \" \", text)\n",
    "    return text.strip()\n",
    "\n",
    "def get_name(text):\n",
    "    #gets only the name from the Reviewer column\n",
    "    return text.split(\"wrote \")[0].strip()\n",
    "\n",
    "\n",
    "def generate_date(text):\n",
    "    #gets the date when the review was written from Reviewer column\n",
    "    return text.split(\"wrote a review\")[1].strip()\n",
    "\n",
    "def get_country(text):\n",
    "    \n",
    "    if text is not None:\n",
    "        try:\n",
    "            return text.split(\",\")[1].strip()\n",
    "        except:\n",
    "            return text #ceratin locations have only country\n",
    "    \n",
    "def get_rating(rating):\n",
    "    return rating/10 "
   ]
  },
  {
   "cell_type": "code",
   "execution_count": 7,
   "id": "37b4d2ab",
   "metadata": {
    "ExecuteTime": {
     "end_time": "2023-03-23T07:11:22.105959Z",
     "start_time": "2023-03-23T07:11:22.097948Z"
    }
   },
   "outputs": [
    {
     "data": {
      "text/plain": [
       "'February 2020'"
      ]
     },
     "execution_count": 7,
     "metadata": {},
     "output_type": "execute_result"
    }
   ],
   "source": [
    "clean_date(\"Date of stay: February 2020\")"
   ]
  },
  {
   "cell_type": "code",
   "execution_count": 8,
   "id": "369d8df2",
   "metadata": {
    "ExecuteTime": {
     "end_time": "2023-03-23T07:11:22.651285Z",
     "start_time": "2023-03-23T07:11:22.637322Z"
    }
   },
   "outputs": [
    {
     "data": {
      "text/plain": [
       "'位置方便，但房間有點暗 位置方便，弘大又是機場線，來回機場也非常方便。不好的是房間燈不太夠，一直覺得很暗。地方很夠，二個大行李都可以放得下！very nice room！location is also very good! Shopping,eating,everything nearby hotel, within 10minutes ! Will be come and stay at this hotel again.'"
      ]
     },
     "execution_count": 8,
     "metadata": {},
     "output_type": "execute_result"
    }
   ],
   "source": [
    "data[\"Review_cmplt\"][1067]"
   ]
  },
  {
   "cell_type": "code",
   "execution_count": 9,
   "id": "9935cd94",
   "metadata": {
    "ExecuteTime": {
     "end_time": "2023-03-23T07:11:23.516340Z",
     "start_time": "2023-03-23T07:11:23.507357Z"
    }
   },
   "outputs": [
    {
     "data": {
      "text/plain": [
       "'very nice room location is also very good! Shopping,eating,everything nearby hotel, within 10minutes ! Will be come and stay at this hotel again.'"
      ]
     },
     "execution_count": 9,
     "metadata": {},
     "output_type": "execute_result"
    }
   ],
   "source": [
    "clean_reviews(data[\"Review_cmplt\"][1067])"
   ]
  },
  {
   "cell_type": "code",
   "execution_count": 10,
   "id": "c27d28f5",
   "metadata": {
    "ExecuteTime": {
     "end_time": "2023-03-23T07:11:27.282846Z",
     "start_time": "2023-03-23T07:11:25.222385Z"
    }
   },
   "outputs": [
    {
     "data": {
      "text/html": [
       "<div>\n",
       "<style scoped>\n",
       "    .dataframe tbody tr th:only-of-type {\n",
       "        vertical-align: middle;\n",
       "    }\n",
       "\n",
       "    .dataframe tbody tr th {\n",
       "        vertical-align: top;\n",
       "    }\n",
       "\n",
       "    .dataframe thead th {\n",
       "        text-align: right;\n",
       "    }\n",
       "</style>\n",
       "<table border=\"1\" class=\"dataframe\">\n",
       "  <thead>\n",
       "    <tr style=\"text-align: right;\">\n",
       "      <th></th>\n",
       "      <th>Hotel</th>\n",
       "      <th>Date</th>\n",
       "      <th>Reviewer</th>\n",
       "      <th>Location</th>\n",
       "      <th>Rating</th>\n",
       "      <th>Review_cmplt</th>\n",
       "      <th>reviewer_name</th>\n",
       "      <th>country</th>\n",
       "      <th>rating</th>\n",
       "      <th>date_of_stay</th>\n",
       "      <th>date_review_written</th>\n",
       "      <th>clean_reviews</th>\n",
       "    </tr>\n",
       "  </thead>\n",
       "  <tbody>\n",
       "    <tr>\n",
       "      <th>0</th>\n",
       "      <td>9Brick_Hotel</td>\n",
       "      <td>Date of stay: December 2022</td>\n",
       "      <td>ChristelleNg wrote a review Jan 2023</td>\n",
       "      <td>Singapore, Singapore</td>\n",
       "      <td>40</td>\n",
       "      <td>Love the look Location not too bad. Near the H...</td>\n",
       "      <td>ChristelleNg</td>\n",
       "      <td>Singapore</td>\n",
       "      <td>4.0</td>\n",
       "      <td>December 2022</td>\n",
       "      <td>Jan 2023</td>\n",
       "      <td>Love the look Location not too bad. Near the H...</td>\n",
       "    </tr>\n",
       "    <tr>\n",
       "      <th>1</th>\n",
       "      <td>9Brick_Hotel</td>\n",
       "      <td>Date of stay: December 2022</td>\n",
       "      <td>Molly123 wrote a review Dec 2022</td>\n",
       "      <td>NaN</td>\n",
       "      <td>10</td>\n",
       "      <td>Very bad experience I asked the hotel to provi...</td>\n",
       "      <td>Molly123</td>\n",
       "      <td>NaN</td>\n",
       "      <td>1.0</td>\n",
       "      <td>December 2022</td>\n",
       "      <td>Dec 2022</td>\n",
       "      <td>Very bad experience I asked the hotel to provi...</td>\n",
       "    </tr>\n",
       "    <tr>\n",
       "      <th>2</th>\n",
       "      <td>9Brick_Hotel</td>\n",
       "      <td>Date of stay: October 2019</td>\n",
       "      <td>wamysdottir wrote a review Apr 2020</td>\n",
       "      <td>Copenhagen, Denmark</td>\n",
       "      <td>40</td>\n",
       "      <td>Chic design A clean boutique hotel convenientl...</td>\n",
       "      <td>wamysdottir</td>\n",
       "      <td>Denmark</td>\n",
       "      <td>4.0</td>\n",
       "      <td>October 2019</td>\n",
       "      <td>Apr 2020</td>\n",
       "      <td>Chic design A clean boutique hotel convenientl...</td>\n",
       "    </tr>\n",
       "    <tr>\n",
       "      <th>3</th>\n",
       "      <td>9Brick_Hotel</td>\n",
       "      <td>Date of stay: December 2019</td>\n",
       "      <td>worldtraveller wrote a review Dec 2019</td>\n",
       "      <td>NaN</td>\n",
       "      <td>30</td>\n",
       "      <td>Great location but weak service standards Let ...</td>\n",
       "      <td>worldtraveller</td>\n",
       "      <td>NaN</td>\n",
       "      <td>3.0</td>\n",
       "      <td>December 2019</td>\n",
       "      <td>Dec 2019</td>\n",
       "      <td>Great location but weak service standards Let ...</td>\n",
       "    </tr>\n",
       "    <tr>\n",
       "      <th>4</th>\n",
       "      <td>9Brick_Hotel</td>\n",
       "      <td>Date of stay: November 2019</td>\n",
       "      <td>Hui Yingg wrote a review Nov 2019</td>\n",
       "      <td>Sydney, Australia</td>\n",
       "      <td>40</td>\n",
       "      <td>Never better This hotel exceeded my expectatio...</td>\n",
       "      <td>Hui Yingg</td>\n",
       "      <td>Australia</td>\n",
       "      <td>4.0</td>\n",
       "      <td>November 2019</td>\n",
       "      <td>Nov 2019</td>\n",
       "      <td>Never better This hotel exceeded my expectatio...</td>\n",
       "    </tr>\n",
       "  </tbody>\n",
       "</table>\n",
       "</div>"
      ],
      "text/plain": [
       "          Hotel                         Date  \\\n",
       "0  9Brick_Hotel  Date of stay: December 2022   \n",
       "1  9Brick_Hotel  Date of stay: December 2022   \n",
       "2  9Brick_Hotel   Date of stay: October 2019   \n",
       "3  9Brick_Hotel  Date of stay: December 2019   \n",
       "4  9Brick_Hotel  Date of stay: November 2019   \n",
       "\n",
       "                                 Reviewer              Location  Rating  \\\n",
       "0    ChristelleNg wrote a review Jan 2023  Singapore, Singapore      40   \n",
       "1        Molly123 wrote a review Dec 2022                   NaN      10   \n",
       "2     wamysdottir wrote a review Apr 2020   Copenhagen, Denmark      40   \n",
       "3  worldtraveller wrote a review Dec 2019                   NaN      30   \n",
       "4       Hui Yingg wrote a review Nov 2019     Sydney, Australia      40   \n",
       "\n",
       "                                        Review_cmplt   reviewer_name  \\\n",
       "0  Love the look Location not too bad. Near the H...    ChristelleNg   \n",
       "1  Very bad experience I asked the hotel to provi...        Molly123   \n",
       "2  Chic design A clean boutique hotel convenientl...     wamysdottir   \n",
       "3  Great location but weak service standards Let ...  worldtraveller   \n",
       "4  Never better This hotel exceeded my expectatio...       Hui Yingg   \n",
       "\n",
       "     country  rating   date_of_stay date_review_written  \\\n",
       "0  Singapore     4.0  December 2022            Jan 2023   \n",
       "1        NaN     1.0  December 2022            Dec 2022   \n",
       "2    Denmark     4.0   October 2019            Apr 2020   \n",
       "3        NaN     3.0  December 2019            Dec 2019   \n",
       "4  Australia     4.0  November 2019            Nov 2019   \n",
       "\n",
       "                                       clean_reviews  \n",
       "0  Love the look Location not too bad. Near the H...  \n",
       "1  Very bad experience I asked the hotel to provi...  \n",
       "2  Chic design A clean boutique hotel convenientl...  \n",
       "3  Great location but weak service standards Let ...  \n",
       "4  Never better This hotel exceeded my expectatio...  "
      ]
     },
     "execution_count": 10,
     "metadata": {},
     "output_type": "execute_result"
    }
   ],
   "source": [
    "# Applying the functions to our dataset\n",
    "\n",
    "data[\"reviewer_name\"]= data[\"Reviewer\"].apply(get_name)\n",
    "data[\"country\"]= data[\"Location\"].apply(get_country)\n",
    "data[\"rating\"]= data[\"Rating\"].apply(get_rating)\n",
    "data[\"date_of_stay\"] = data[\"Date\"].apply(clean_date)\n",
    "data[\"date_review_written\"]= data[\"Reviewer\"].apply(generate_date)\n",
    "data[\"clean_reviews\"] = data[\"Review_cmplt\"].apply(clean_reviews)\n",
    "data.head()"
   ]
  },
  {
   "cell_type": "code",
   "execution_count": 11,
   "id": "b98e612f",
   "metadata": {
    "ExecuteTime": {
     "end_time": "2023-03-23T07:11:28.538232Z",
     "start_time": "2023-03-23T07:11:28.490361Z"
    }
   },
   "outputs": [
    {
     "name": "stdout",
     "output_type": "stream",
     "text": [
      "(50175, 7)\n"
     ]
    },
    {
     "data": {
      "text/html": [
       "<div>\n",
       "<style scoped>\n",
       "    .dataframe tbody tr th:only-of-type {\n",
       "        vertical-align: middle;\n",
       "    }\n",
       "\n",
       "    .dataframe tbody tr th {\n",
       "        vertical-align: top;\n",
       "    }\n",
       "\n",
       "    .dataframe thead th {\n",
       "        text-align: right;\n",
       "    }\n",
       "</style>\n",
       "<table border=\"1\" class=\"dataframe\">\n",
       "  <thead>\n",
       "    <tr style=\"text-align: right;\">\n",
       "      <th></th>\n",
       "      <th>Hotel</th>\n",
       "      <th>reviewer_name</th>\n",
       "      <th>country</th>\n",
       "      <th>rating</th>\n",
       "      <th>date_of_stay</th>\n",
       "      <th>date_review_written</th>\n",
       "      <th>clean_reviews</th>\n",
       "    </tr>\n",
       "  </thead>\n",
       "  <tbody>\n",
       "    <tr>\n",
       "      <th>0</th>\n",
       "      <td>9Brick_Hotel</td>\n",
       "      <td>ChristelleNg</td>\n",
       "      <td>Singapore</td>\n",
       "      <td>4.0</td>\n",
       "      <td>December 2022</td>\n",
       "      <td>Jan 2023</td>\n",
       "      <td>Love the look Location not too bad. Near the H...</td>\n",
       "    </tr>\n",
       "    <tr>\n",
       "      <th>1</th>\n",
       "      <td>9Brick_Hotel</td>\n",
       "      <td>Molly123</td>\n",
       "      <td>NaN</td>\n",
       "      <td>1.0</td>\n",
       "      <td>December 2022</td>\n",
       "      <td>Dec 2022</td>\n",
       "      <td>Very bad experience I asked the hotel to provi...</td>\n",
       "    </tr>\n",
       "    <tr>\n",
       "      <th>2</th>\n",
       "      <td>9Brick_Hotel</td>\n",
       "      <td>wamysdottir</td>\n",
       "      <td>Denmark</td>\n",
       "      <td>4.0</td>\n",
       "      <td>October 2019</td>\n",
       "      <td>Apr 2020</td>\n",
       "      <td>Chic design A clean boutique hotel convenientl...</td>\n",
       "    </tr>\n",
       "    <tr>\n",
       "      <th>3</th>\n",
       "      <td>9Brick_Hotel</td>\n",
       "      <td>worldtraveller</td>\n",
       "      <td>NaN</td>\n",
       "      <td>3.0</td>\n",
       "      <td>December 2019</td>\n",
       "      <td>Dec 2019</td>\n",
       "      <td>Great location but weak service standards Let ...</td>\n",
       "    </tr>\n",
       "    <tr>\n",
       "      <th>4</th>\n",
       "      <td>9Brick_Hotel</td>\n",
       "      <td>Hui Yingg</td>\n",
       "      <td>Australia</td>\n",
       "      <td>4.0</td>\n",
       "      <td>November 2019</td>\n",
       "      <td>Nov 2019</td>\n",
       "      <td>Never better This hotel exceeded my expectatio...</td>\n",
       "    </tr>\n",
       "  </tbody>\n",
       "</table>\n",
       "</div>"
      ],
      "text/plain": [
       "          Hotel   reviewer_name    country  rating   date_of_stay  \\\n",
       "0  9Brick_Hotel    ChristelleNg  Singapore     4.0  December 2022   \n",
       "1  9Brick_Hotel        Molly123        NaN     1.0  December 2022   \n",
       "2  9Brick_Hotel     wamysdottir    Denmark     4.0   October 2019   \n",
       "3  9Brick_Hotel  worldtraveller        NaN     3.0  December 2019   \n",
       "4  9Brick_Hotel       Hui Yingg  Australia     4.0  November 2019   \n",
       "\n",
       "  date_review_written                                      clean_reviews  \n",
       "0            Jan 2023  Love the look Location not too bad. Near the H...  \n",
       "1            Dec 2022  Very bad experience I asked the hotel to provi...  \n",
       "2            Apr 2020  Chic design A clean boutique hotel convenientl...  \n",
       "3            Dec 2019  Great location but weak service standards Let ...  \n",
       "4            Nov 2019  Never better This hotel exceeded my expectatio...  "
      ]
     },
     "execution_count": 11,
     "metadata": {},
     "output_type": "execute_result"
    }
   ],
   "source": [
    "data.drop([\"Date\",\"Reviewer\",\"Location\",\"Rating\",\"Review_cmplt\"], axis = 1, inplace = True)\n",
    "print(data.shape)\n",
    "data.head()"
   ]
  },
  {
   "cell_type": "code",
   "execution_count": 12,
   "id": "3c05f301",
   "metadata": {
    "ExecuteTime": {
     "end_time": "2023-03-23T07:11:30.618768Z",
     "start_time": "2023-03-23T07:11:29.722054Z"
    }
   },
   "outputs": [],
   "source": [
    "# saving this data\n",
    "data.to_csv(\"Clean_TripAdvisor_English_Reviews_Seoul_Hotels.csv\", index = False)"
   ]
  },
  {
   "cell_type": "code",
   "execution_count": 13,
   "id": "24c8b283",
   "metadata": {
    "ExecuteTime": {
     "end_time": "2023-03-23T07:11:31.345304Z",
     "start_time": "2023-03-23T07:11:31.321367Z"
    }
   },
   "outputs": [
    {
     "data": {
      "text/plain": [
       "Hotel                     0\n",
       "reviewer_name             0\n",
       "country                9188\n",
       "rating                    0\n",
       "date_of_stay             90\n",
       "date_review_written       0\n",
       "clean_reviews             0\n",
       "dtype: int64"
      ]
     },
     "execution_count": 13,
     "metadata": {},
     "output_type": "execute_result"
    }
   ],
   "source": [
    "data.isna().sum()"
   ]
  },
  {
   "cell_type": "markdown",
   "id": "796e6371",
   "metadata": {},
   "source": [
    "# EDA"
   ]
  },
  {
   "cell_type": "markdown",
   "id": "8da1a7c7",
   "metadata": {},
   "source": [
    "### Plotting the Number of Yearly Reviews"
   ]
  },
  {
   "cell_type": "code",
   "execution_count": 14,
   "id": "afd55f98",
   "metadata": {
    "ExecuteTime": {
     "end_time": "2023-03-23T07:11:33.619524Z",
     "start_time": "2023-03-23T07:11:33.521787Z"
    }
   },
   "outputs": [
    {
     "data": {
      "text/html": [
       "<div>\n",
       "<style scoped>\n",
       "    .dataframe tbody tr th:only-of-type {\n",
       "        vertical-align: middle;\n",
       "    }\n",
       "\n",
       "    .dataframe tbody tr th {\n",
       "        vertical-align: top;\n",
       "    }\n",
       "\n",
       "    .dataframe thead th {\n",
       "        text-align: right;\n",
       "    }\n",
       "</style>\n",
       "<table border=\"1\" class=\"dataframe\">\n",
       "  <thead>\n",
       "    <tr style=\"text-align: right;\">\n",
       "      <th></th>\n",
       "      <th>Hotel</th>\n",
       "      <th>reviewer_name</th>\n",
       "      <th>country</th>\n",
       "      <th>rating</th>\n",
       "      <th>date_of_stay</th>\n",
       "      <th>date_review_written</th>\n",
       "      <th>clean_reviews</th>\n",
       "      <th>year</th>\n",
       "    </tr>\n",
       "  </thead>\n",
       "  <tbody>\n",
       "    <tr>\n",
       "      <th>0</th>\n",
       "      <td>9Brick_Hotel</td>\n",
       "      <td>ChristelleNg</td>\n",
       "      <td>Singapore</td>\n",
       "      <td>4.0</td>\n",
       "      <td>December 2022</td>\n",
       "      <td>Jan 2023</td>\n",
       "      <td>Love the look Location not too bad. Near the H...</td>\n",
       "      <td>2023</td>\n",
       "    </tr>\n",
       "    <tr>\n",
       "      <th>1</th>\n",
       "      <td>9Brick_Hotel</td>\n",
       "      <td>Molly123</td>\n",
       "      <td>NaN</td>\n",
       "      <td>1.0</td>\n",
       "      <td>December 2022</td>\n",
       "      <td>Dec 2022</td>\n",
       "      <td>Very bad experience I asked the hotel to provi...</td>\n",
       "      <td>2022</td>\n",
       "    </tr>\n",
       "    <tr>\n",
       "      <th>2</th>\n",
       "      <td>9Brick_Hotel</td>\n",
       "      <td>wamysdottir</td>\n",
       "      <td>Denmark</td>\n",
       "      <td>4.0</td>\n",
       "      <td>October 2019</td>\n",
       "      <td>Apr 2020</td>\n",
       "      <td>Chic design A clean boutique hotel convenientl...</td>\n",
       "      <td>2020</td>\n",
       "    </tr>\n",
       "  </tbody>\n",
       "</table>\n",
       "</div>"
      ],
      "text/plain": [
       "          Hotel reviewer_name    country  rating   date_of_stay  \\\n",
       "0  9Brick_Hotel  ChristelleNg  Singapore     4.0  December 2022   \n",
       "1  9Brick_Hotel      Molly123        NaN     1.0  December 2022   \n",
       "2  9Brick_Hotel   wamysdottir    Denmark     4.0   October 2019   \n",
       "\n",
       "  date_review_written                                      clean_reviews  year  \n",
       "0            Jan 2023  Love the look Location not too bad. Near the H...  2023  \n",
       "1            Dec 2022  Very bad experience I asked the hotel to provi...  2022  \n",
       "2            Apr 2020  Chic design A clean boutique hotel convenientl...  2020  "
      ]
     },
     "execution_count": 14,
     "metadata": {},
     "output_type": "execute_result"
    }
   ],
   "source": [
    "#defining a function to get only the year from the given date\n",
    "\n",
    "def get_years(text):\n",
    "    text = re.sub(\"[^0-9]+\", \"\",text)\n",
    "    return text.strip()\n",
    "\n",
    "#applying the function to our dataset\n",
    "\n",
    "data[\"year\"] = data[\"date_review_written\"].apply(get_years)\n",
    "\n",
    "data.head(3)"
   ]
  },
  {
   "cell_type": "code",
   "execution_count": 15,
   "id": "ff1b5c91",
   "metadata": {
    "ExecuteTime": {
     "end_time": "2023-03-23T07:11:34.517129Z",
     "start_time": "2023-03-23T07:11:34.487206Z"
    }
   },
   "outputs": [
    {
     "data": {
      "text/html": [
       "<div>\n",
       "<style scoped>\n",
       "    .dataframe tbody tr th:only-of-type {\n",
       "        vertical-align: middle;\n",
       "    }\n",
       "\n",
       "    .dataframe tbody tr th {\n",
       "        vertical-align: top;\n",
       "    }\n",
       "\n",
       "    .dataframe thead th {\n",
       "        text-align: right;\n",
       "    }\n",
       "</style>\n",
       "<table border=\"1\" class=\"dataframe\">\n",
       "  <thead>\n",
       "    <tr style=\"text-align: right;\">\n",
       "      <th></th>\n",
       "      <th>num_reviews</th>\n",
       "    </tr>\n",
       "  </thead>\n",
       "  <tbody>\n",
       "    <tr>\n",
       "      <th></th>\n",
       "      <td>9</td>\n",
       "    </tr>\n",
       "    <tr>\n",
       "      <th>1</th>\n",
       "      <td>6</td>\n",
       "    </tr>\n",
       "    <tr>\n",
       "      <th>2</th>\n",
       "      <td>5</td>\n",
       "    </tr>\n",
       "    <tr>\n",
       "      <th>2004</th>\n",
       "      <td>9</td>\n",
       "    </tr>\n",
       "    <tr>\n",
       "      <th>2005</th>\n",
       "      <td>46</td>\n",
       "    </tr>\n",
       "    <tr>\n",
       "      <th>2006</th>\n",
       "      <td>68</td>\n",
       "    </tr>\n",
       "    <tr>\n",
       "      <th>2007</th>\n",
       "      <td>131</td>\n",
       "    </tr>\n",
       "    <tr>\n",
       "      <th>2008</th>\n",
       "      <td>214</td>\n",
       "    </tr>\n",
       "    <tr>\n",
       "      <th>2009</th>\n",
       "      <td>504</td>\n",
       "    </tr>\n",
       "    <tr>\n",
       "      <th>2010</th>\n",
       "      <td>541</td>\n",
       "    </tr>\n",
       "    <tr>\n",
       "      <th>2011</th>\n",
       "      <td>1118</td>\n",
       "    </tr>\n",
       "    <tr>\n",
       "      <th>2012</th>\n",
       "      <td>2062</td>\n",
       "    </tr>\n",
       "    <tr>\n",
       "      <th>2013</th>\n",
       "      <td>3292</td>\n",
       "    </tr>\n",
       "    <tr>\n",
       "      <th>2014</th>\n",
       "      <td>4099</td>\n",
       "    </tr>\n",
       "    <tr>\n",
       "      <th>2015</th>\n",
       "      <td>5446</td>\n",
       "    </tr>\n",
       "    <tr>\n",
       "      <th>2016</th>\n",
       "      <td>8050</td>\n",
       "    </tr>\n",
       "    <tr>\n",
       "      <th>2017</th>\n",
       "      <td>8447</td>\n",
       "    </tr>\n",
       "    <tr>\n",
       "      <th>2018</th>\n",
       "      <td>7030</td>\n",
       "    </tr>\n",
       "    <tr>\n",
       "      <th>2019</th>\n",
       "      <td>6190</td>\n",
       "    </tr>\n",
       "    <tr>\n",
       "      <th>2020</th>\n",
       "      <td>899</td>\n",
       "    </tr>\n",
       "    <tr>\n",
       "      <th>2021</th>\n",
       "      <td>367</td>\n",
       "    </tr>\n",
       "    <tr>\n",
       "      <th>2022</th>\n",
       "      <td>1279</td>\n",
       "    </tr>\n",
       "    <tr>\n",
       "      <th>2023</th>\n",
       "      <td>351</td>\n",
       "    </tr>\n",
       "    <tr>\n",
       "      <th>3</th>\n",
       "      <td>8</td>\n",
       "    </tr>\n",
       "    <tr>\n",
       "      <th>4</th>\n",
       "      <td>4</td>\n",
       "    </tr>\n",
       "  </tbody>\n",
       "</table>\n",
       "</div>"
      ],
      "text/plain": [
       "      num_reviews\n",
       "                9\n",
       "1               6\n",
       "2               5\n",
       "2004            9\n",
       "2005           46\n",
       "2006           68\n",
       "2007          131\n",
       "2008          214\n",
       "2009          504\n",
       "2010          541\n",
       "2011         1118\n",
       "2012         2062\n",
       "2013         3292\n",
       "2014         4099\n",
       "2015         5446\n",
       "2016         8050\n",
       "2017         8447\n",
       "2018         7030\n",
       "2019         6190\n",
       "2020          899\n",
       "2021          367\n",
       "2022         1279\n",
       "2023          351\n",
       "3               8\n",
       "4               4"
      ]
     },
     "execution_count": 15,
     "metadata": {},
     "output_type": "execute_result"
    }
   ],
   "source": [
    "yearly_reviews = pd.DataFrame(data[\"year\"].value_counts()).sort_index()\n",
    "yearly_reviews.columns = ['num_reviews']\n",
    "yearly_reviews"
   ]
  },
  {
   "cell_type": "markdown",
   "id": "0c67ae51",
   "metadata": {},
   "source": [
    "#### Note: Through EDA, it is known that the number of reviews above corresponding to  year 1,2,3,4, and no values are the reviews corresponding to year 2023. Since recent reviews (as of the date of scraping) had dates as \"Yesterday\"  etc. Thus we will merge all these reviews under 2023"
   ]
  },
  {
   "cell_type": "code",
   "execution_count": 16,
   "id": "19cdc1e3",
   "metadata": {
    "ExecuteTime": {
     "end_time": "2023-03-23T07:11:36.777118Z",
     "start_time": "2023-03-23T07:11:36.764121Z"
    }
   },
   "outputs": [
    {
     "data": {
      "text/html": [
       "<div>\n",
       "<style scoped>\n",
       "    .dataframe tbody tr th:only-of-type {\n",
       "        vertical-align: middle;\n",
       "    }\n",
       "\n",
       "    .dataframe tbody tr th {\n",
       "        vertical-align: top;\n",
       "    }\n",
       "\n",
       "    .dataframe thead th {\n",
       "        text-align: right;\n",
       "    }\n",
       "</style>\n",
       "<table border=\"1\" class=\"dataframe\">\n",
       "  <thead>\n",
       "    <tr style=\"text-align: right;\">\n",
       "      <th></th>\n",
       "      <th>year</th>\n",
       "      <th>num_reviews</th>\n",
       "    </tr>\n",
       "  </thead>\n",
       "  <tbody>\n",
       "    <tr>\n",
       "      <th>0</th>\n",
       "      <td>2004</td>\n",
       "      <td>9</td>\n",
       "    </tr>\n",
       "    <tr>\n",
       "      <th>1</th>\n",
       "      <td>2005</td>\n",
       "      <td>46</td>\n",
       "    </tr>\n",
       "    <tr>\n",
       "      <th>2</th>\n",
       "      <td>2006</td>\n",
       "      <td>68</td>\n",
       "    </tr>\n",
       "    <tr>\n",
       "      <th>3</th>\n",
       "      <td>2007</td>\n",
       "      <td>131</td>\n",
       "    </tr>\n",
       "    <tr>\n",
       "      <th>4</th>\n",
       "      <td>2008</td>\n",
       "      <td>214</td>\n",
       "    </tr>\n",
       "    <tr>\n",
       "      <th>5</th>\n",
       "      <td>2009</td>\n",
       "      <td>504</td>\n",
       "    </tr>\n",
       "    <tr>\n",
       "      <th>6</th>\n",
       "      <td>2010</td>\n",
       "      <td>541</td>\n",
       "    </tr>\n",
       "    <tr>\n",
       "      <th>7</th>\n",
       "      <td>2011</td>\n",
       "      <td>1118</td>\n",
       "    </tr>\n",
       "    <tr>\n",
       "      <th>8</th>\n",
       "      <td>2012</td>\n",
       "      <td>2062</td>\n",
       "    </tr>\n",
       "    <tr>\n",
       "      <th>9</th>\n",
       "      <td>2013</td>\n",
       "      <td>3292</td>\n",
       "    </tr>\n",
       "    <tr>\n",
       "      <th>10</th>\n",
       "      <td>2014</td>\n",
       "      <td>4099</td>\n",
       "    </tr>\n",
       "    <tr>\n",
       "      <th>11</th>\n",
       "      <td>2015</td>\n",
       "      <td>5446</td>\n",
       "    </tr>\n",
       "    <tr>\n",
       "      <th>12</th>\n",
       "      <td>2016</td>\n",
       "      <td>8050</td>\n",
       "    </tr>\n",
       "    <tr>\n",
       "      <th>13</th>\n",
       "      <td>2017</td>\n",
       "      <td>8447</td>\n",
       "    </tr>\n",
       "    <tr>\n",
       "      <th>14</th>\n",
       "      <td>2018</td>\n",
       "      <td>7030</td>\n",
       "    </tr>\n",
       "    <tr>\n",
       "      <th>15</th>\n",
       "      <td>2019</td>\n",
       "      <td>6190</td>\n",
       "    </tr>\n",
       "    <tr>\n",
       "      <th>16</th>\n",
       "      <td>2020</td>\n",
       "      <td>899</td>\n",
       "    </tr>\n",
       "    <tr>\n",
       "      <th>17</th>\n",
       "      <td>2021</td>\n",
       "      <td>367</td>\n",
       "    </tr>\n",
       "    <tr>\n",
       "      <th>18</th>\n",
       "      <td>2022</td>\n",
       "      <td>1279</td>\n",
       "    </tr>\n",
       "    <tr>\n",
       "      <th>19</th>\n",
       "      <td>2023</td>\n",
       "      <td>383</td>\n",
       "    </tr>\n",
       "  </tbody>\n",
       "</table>\n",
       "</div>"
      ],
      "text/plain": [
       "    year  num_reviews\n",
       "0   2004            9\n",
       "1   2005           46\n",
       "2   2006           68\n",
       "3   2007          131\n",
       "4   2008          214\n",
       "5   2009          504\n",
       "6   2010          541\n",
       "7   2011         1118\n",
       "8   2012         2062\n",
       "9   2013         3292\n",
       "10  2014         4099\n",
       "11  2015         5446\n",
       "12  2016         8050\n",
       "13  2017         8447\n",
       "14  2018         7030\n",
       "15  2019         6190\n",
       "16  2020          899\n",
       "17  2021          367\n",
       "18  2022         1279\n",
       "19  2023          383"
      ]
     },
     "execution_count": 16,
     "metadata": {},
     "output_type": "execute_result"
    }
   ],
   "source": [
    "yearly_reviews.loc[\"2023\"] = [383]\n",
    "yearly_reviews.drop([\"1\",'2','3','4',],axis = 0,inplace = True)\n",
    "yearly_reviews.drop(index=yearly_reviews.index[0], axis=0, inplace=True)\n",
    "yearly_reviews.reset_index(inplace=True)\n",
    "yearly_reviews = yearly_reviews.rename(columns = {'index':'year'})\n",
    "yearly_reviews"
   ]
  },
  {
   "cell_type": "code",
   "execution_count": 17,
   "id": "d6bba1a4",
   "metadata": {
    "ExecuteTime": {
     "end_time": "2023-03-23T07:11:40.846216Z",
     "start_time": "2023-03-23T07:11:40.834242Z"
    }
   },
   "outputs": [
    {
     "data": {
      "text/html": [
       "<div>\n",
       "<style scoped>\n",
       "    .dataframe tbody tr th:only-of-type {\n",
       "        vertical-align: middle;\n",
       "    }\n",
       "\n",
       "    .dataframe tbody tr th {\n",
       "        vertical-align: top;\n",
       "    }\n",
       "\n",
       "    .dataframe thead th {\n",
       "        text-align: right;\n",
       "    }\n",
       "</style>\n",
       "<table border=\"1\" class=\"dataframe\">\n",
       "  <thead>\n",
       "    <tr style=\"text-align: right;\">\n",
       "      <th></th>\n",
       "      <th>year</th>\n",
       "      <th>num_reviews</th>\n",
       "    </tr>\n",
       "  </thead>\n",
       "  <tbody>\n",
       "    <tr>\n",
       "      <th>0</th>\n",
       "      <td>2004</td>\n",
       "      <td>9</td>\n",
       "    </tr>\n",
       "    <tr>\n",
       "      <th>1</th>\n",
       "      <td>2005</td>\n",
       "      <td>46</td>\n",
       "    </tr>\n",
       "    <tr>\n",
       "      <th>2</th>\n",
       "      <td>2006</td>\n",
       "      <td>68</td>\n",
       "    </tr>\n",
       "    <tr>\n",
       "      <th>3</th>\n",
       "      <td>2007</td>\n",
       "      <td>131</td>\n",
       "    </tr>\n",
       "    <tr>\n",
       "      <th>4</th>\n",
       "      <td>2008</td>\n",
       "      <td>214</td>\n",
       "    </tr>\n",
       "    <tr>\n",
       "      <th>5</th>\n",
       "      <td>2009</td>\n",
       "      <td>504</td>\n",
       "    </tr>\n",
       "    <tr>\n",
       "      <th>6</th>\n",
       "      <td>2010</td>\n",
       "      <td>541</td>\n",
       "    </tr>\n",
       "    <tr>\n",
       "      <th>7</th>\n",
       "      <td>2011</td>\n",
       "      <td>1118</td>\n",
       "    </tr>\n",
       "    <tr>\n",
       "      <th>8</th>\n",
       "      <td>2012</td>\n",
       "      <td>2062</td>\n",
       "    </tr>\n",
       "    <tr>\n",
       "      <th>9</th>\n",
       "      <td>2013</td>\n",
       "      <td>3292</td>\n",
       "    </tr>\n",
       "    <tr>\n",
       "      <th>10</th>\n",
       "      <td>2014</td>\n",
       "      <td>4099</td>\n",
       "    </tr>\n",
       "    <tr>\n",
       "      <th>11</th>\n",
       "      <td>2015</td>\n",
       "      <td>5446</td>\n",
       "    </tr>\n",
       "    <tr>\n",
       "      <th>12</th>\n",
       "      <td>2016</td>\n",
       "      <td>8050</td>\n",
       "    </tr>\n",
       "    <tr>\n",
       "      <th>13</th>\n",
       "      <td>2017</td>\n",
       "      <td>8447</td>\n",
       "    </tr>\n",
       "    <tr>\n",
       "      <th>14</th>\n",
       "      <td>2018</td>\n",
       "      <td>7030</td>\n",
       "    </tr>\n",
       "    <tr>\n",
       "      <th>15</th>\n",
       "      <td>2019</td>\n",
       "      <td>6190</td>\n",
       "    </tr>\n",
       "    <tr>\n",
       "      <th>16</th>\n",
       "      <td>2020</td>\n",
       "      <td>899</td>\n",
       "    </tr>\n",
       "    <tr>\n",
       "      <th>17</th>\n",
       "      <td>2021</td>\n",
       "      <td>367</td>\n",
       "    </tr>\n",
       "    <tr>\n",
       "      <th>18</th>\n",
       "      <td>2022</td>\n",
       "      <td>1279</td>\n",
       "    </tr>\n",
       "  </tbody>\n",
       "</table>\n",
       "</div>"
      ],
      "text/plain": [
       "    year  num_reviews\n",
       "0   2004            9\n",
       "1   2005           46\n",
       "2   2006           68\n",
       "3   2007          131\n",
       "4   2008          214\n",
       "5   2009          504\n",
       "6   2010          541\n",
       "7   2011         1118\n",
       "8   2012         2062\n",
       "9   2013         3292\n",
       "10  2014         4099\n",
       "11  2015         5446\n",
       "12  2016         8050\n",
       "13  2017         8447\n",
       "14  2018         7030\n",
       "15  2019         6190\n",
       "16  2020          899\n",
       "17  2021          367\n",
       "18  2022         1279"
      ]
     },
     "execution_count": 17,
     "metadata": {},
     "output_type": "execute_result"
    }
   ],
   "source": [
    "# for the sake of the plot, we will drop the year 2023 as well as the year has just started.\n",
    "yearly_reviews.drop(index=yearly_reviews.index[-1], axis=0, inplace=True)\n",
    "yearly_reviews"
   ]
  },
  {
   "cell_type": "code",
   "execution_count": 18,
   "id": "f86b8e6d",
   "metadata": {
    "ExecuteTime": {
     "end_time": "2023-03-23T07:11:45.364136Z",
     "start_time": "2023-03-23T07:11:43.343535Z"
    }
   },
   "outputs": [
    {
     "data": {
      "text/plain": [
       "<Figure size 1440x720 with 0 Axes>"
      ]
     },
     "metadata": {},
     "output_type": "display_data"
    },
    {
     "data": {
      "image/png": "[encoded data removed]",
      "text/plain": [
       "<Figure size 432x288 with 1 Axes>"
      ]
     },
     "metadata": {
      "needs_background": "light"
     },
     "output_type": "display_data"
    }
   ],
   "source": [
    "fig = plt.figure(figsize=(20,10))\n",
    "yearly_reviews.plot(color=\"brown\")\n",
    "plt.title('Num_Reviews_Yearwise')\n",
    "plt.xlabel(\"Years\",)\n",
    "plt.ylabel(\"Num_Reviews\")\n",
    "plt.xticks(np.arange(0, 19, step=3), [\"2004\",\"2007\",\"2010\",\"2013\",\"2016\",\"2019\",\"2022\"])\n",
    "plt.savefig('Num_Reviews_Yearly.png',dpi=1200)\n",
    "plt.show()"
   ]
  },
  {
   "cell_type": "markdown",
   "id": "66ace7ee",
   "metadata": {},
   "source": [
    "#### Inference: The number of online reviews showed a gradual increasing trend from year 2004 to 2016 and then it started falling down and towards 2019 it had a drastic fall. The number of reviews which are directly proportional to the number of guests are again showing positive growth as Covid restrictions are being lifted."
   ]
  },
  {
   "cell_type": "markdown",
   "id": "db5c619e",
   "metadata": {},
   "source": [
    "### Rating Analysis\n",
    "\n",
    "\n",
    "Box plot of the ratings to see the distribution of ratings given by the reviewers to identify whether the ratings are normally distributed or skewed, and whether there are any outliers."
   ]
  },
  {
   "cell_type": "code",
   "execution_count": 20,
   "id": "6a045562",
   "metadata": {
    "ExecuteTime": {
     "end_time": "2023-03-23T07:12:48.548323Z",
     "start_time": "2023-03-23T07:12:45.017073Z"
    }
   },
   "outputs": [
    {
     "data": {
      "image/png": "[encoded data removed]",
      "text/plain": [
       "<Figure size 720x504 with 1 Axes>"
      ]
     },
     "metadata": {
      "needs_background": "light"
     },
     "output_type": "display_data"
    }
   ],
   "source": [
    "# Define the list of ratings\n",
    "\n",
    "ratings = data[\"rating\"].tolist()\n",
    "\n",
    "#create datasets\n",
    "\n",
    "data1 = np.arange(ratings.count(1))  \n",
    "data2 = np.arange(ratings.count(2))  \n",
    "data3 = np.arange(ratings.count(3))  \n",
    "data4 = np.arange(ratings.count(4))\n",
    "data5 = np.arange(ratings.count(5))\n",
    "\n",
    "dataSet = [data1, data2, data3, data4,data5]  \n",
    "  \n",
    "figure = plt.figure(figsize =(10, 7))  \n",
    "ax = figure.add_axes([0, 0, 1, 1]) \n",
    "ax.grid(color='indianred', axis='y', linestyle='-', linewidth=0.25, alpha=0.5)\n",
    "bp = ax.boxplot(dataSet)\n",
    "\n",
    "# Set the title and axis labels\n",
    "plt.title('Reviews_Rating_Boxplot')\n",
    "plt.xlabel('Average Rating')\n",
    "plt.ylabel(\"Number of Reviewes\")\n",
    "plt.savefig('Reviews_Rating_Boxplot.png',dpi=1200)\n",
    "\n",
    "plt.show()  "
   ]
  },
  {
   "cell_type": "code",
   "execution_count": 22,
   "id": "d208c2dc",
   "metadata": {
    "ExecuteTime": {
     "end_time": "2023-03-23T07:14:14.637110Z",
     "start_time": "2023-03-23T07:14:13.085851Z"
    }
   },
   "outputs": [
    {
     "data": {
      "image/png": "[encoded data removed]",
      "text/plain": [
       "<Figure size 432x288 with 1 Axes>"
      ]
     },
     "metadata": {
      "needs_background": "light"
     },
     "output_type": "display_data"
    }
   ],
   "source": [
    "plt.title('Rating_Boxplot')\n",
    "plt.ylabel(\"Rating out of 5 Stars\")\n",
    "data.boxplot(column = [\"rating\"],figsize =(10, 7))\n",
    "plt.savefig('Hotel_Ratings.png',dpi=1200)"
   ]
  },
  {
   "cell_type": "markdown",
   "id": "ea0f037b",
   "metadata": {},
   "source": [
    "### Summary Statistics for Ratings"
   ]
  },
  {
   "cell_type": "code",
   "execution_count": 23,
   "id": "da873421",
   "metadata": {
    "ExecuteTime": {
     "end_time": "2023-03-23T07:19:11.101439Z",
     "start_time": "2023-03-23T07:19:11.088483Z"
    }
   },
   "outputs": [
    {
     "data": {
      "text/plain": [
       "count    50175.000000\n",
       "mean         4.307942\n",
       "std          0.907367\n",
       "min          1.000000\n",
       "25%          4.000000\n",
       "50%          5.000000\n",
       "75%          5.000000\n",
       "max          5.000000\n",
       "Name: rating, dtype: float64"
      ]
     },
     "execution_count": 23,
     "metadata": {},
     "output_type": "execute_result"
    }
   ],
   "source": [
    "data[\"rating\"].describe()"
   ]
  },
  {
   "cell_type": "markdown",
   "id": "85aa7fdf",
   "metadata": {},
   "source": [
    "#### Inference: The ratings are positively skewed. Thus in order to analyse the negative and postive aspects, the data should be seggregated accordingly."
   ]
  },
  {
   "cell_type": "markdown",
   "id": "216d1cd4",
   "metadata": {},
   "source": [
    "### Reviewer Analysis\n",
    "\n",
    "Analyzing the nationality of the reviewers to determine which countries the majority of guests come from. This can help hotel managers to tailor the marketing efforts to target those countries specifically.\n"
   ]
  },
  {
   "cell_type": "code",
   "execution_count": 38,
   "id": "e99155eb",
   "metadata": {
    "ExecuteTime": {
     "end_time": "2023-04-04T06:02:49.458415Z",
     "start_time": "2023-04-04T06:02:48.499955Z"
    }
   },
   "outputs": [],
   "source": [
    "data = pd.read_csv(\"Complete_Data_TripAdvisor.csv\",encoding = 'unicode_escape')"
   ]
  },
  {
   "cell_type": "code",
   "execution_count": 39,
   "id": "8815a9e2",
   "metadata": {
    "ExecuteTime": {
     "end_time": "2023-04-04T06:02:50.266220Z",
     "start_time": "2023-04-04T06:02:50.242282Z"
    }
   },
   "outputs": [
    {
     "data": {
      "text/html": [
       "<div>\n",
       "<style scoped>\n",
       "    .dataframe tbody tr th:only-of-type {\n",
       "        vertical-align: middle;\n",
       "    }\n",
       "\n",
       "    .dataframe tbody tr th {\n",
       "        vertical-align: top;\n",
       "    }\n",
       "\n",
       "    .dataframe thead th {\n",
       "        text-align: right;\n",
       "    }\n",
       "</style>\n",
       "<table border=\"1\" class=\"dataframe\">\n",
       "  <thead>\n",
       "    <tr style=\"text-align: right;\">\n",
       "      <th></th>\n",
       "      <th>Hotel</th>\n",
       "      <th>reviewer_name</th>\n",
       "      <th>country</th>\n",
       "      <th>clean countries</th>\n",
       "      <th>rating</th>\n",
       "      <th>date_of_stay</th>\n",
       "      <th>date_review_written</th>\n",
       "      <th>clean_reviews</th>\n",
       "      <th>clean_reviews Positive Sentiment Score</th>\n",
       "      <th>clean_reviews Negative Sentiment Score</th>\n",
       "      <th>clean_reviews Neutral Sentiment Score</th>\n",
       "      <th>clean_reviews Compound Sentiment Score</th>\n",
       "      <th>sentiment</th>\n",
       "      <th>word_count</th>\n",
       "      <th>word_count_scaled</th>\n",
       "      <th>preprocessed_reviews</th>\n",
       "      <th>topic_label</th>\n",
       "    </tr>\n",
       "  </thead>\n",
       "  <tbody>\n",
       "    <tr>\n",
       "      <th>0</th>\n",
       "      <td>9Brick_Hotel</td>\n",
       "      <td>ChristelleNg</td>\n",
       "      <td>Singapore</td>\n",
       "      <td>Singapore</td>\n",
       "      <td>4.0</td>\n",
       "      <td>22-Dec</td>\n",
       "      <td>23-Jan</td>\n",
       "      <td>Love the look Location not too bad. Near the H...</td>\n",
       "      <td>0.184</td>\n",
       "      <td>0.092</td>\n",
       "      <td>0.724</td>\n",
       "      <td>0.654</td>\n",
       "      <td>Positive</td>\n",
       "      <td>48.0</td>\n",
       "      <td>-0.659063128</td>\n",
       "      <td>love look location bad station comfortable bed...</td>\n",
       "      <td>5</td>\n",
       "    </tr>\n",
       "    <tr>\n",
       "      <th>1</th>\n",
       "      <td>9Brick_Hotel</td>\n",
       "      <td>Molly123</td>\n",
       "      <td>NaN</td>\n",
       "      <td>NaN</td>\n",
       "      <td>1.0</td>\n",
       "      <td>22-Dec</td>\n",
       "      <td>22-Dec</td>\n",
       "      <td>Very bad experience I asked the hotel to provi...</td>\n",
       "      <td>0.154</td>\n",
       "      <td>0.156</td>\n",
       "      <td>0.690</td>\n",
       "      <td>-0.275</td>\n",
       "      <td>Neutral</td>\n",
       "      <td>51.0</td>\n",
       "      <td>-0.634014814</td>\n",
       "      <td>bad experience ask provide set comfort refuse ...</td>\n",
       "      <td>2</td>\n",
       "    </tr>\n",
       "    <tr>\n",
       "      <th>2</th>\n",
       "      <td>9Brick_Hotel</td>\n",
       "      <td>wamysdottir</td>\n",
       "      <td>Denmark</td>\n",
       "      <td>Danmark</td>\n",
       "      <td>4.0</td>\n",
       "      <td>19-Oct</td>\n",
       "      <td>20-Apr</td>\n",
       "      <td>Chic design A clean boutique hotel convenientl...</td>\n",
       "      <td>0.157</td>\n",
       "      <td>0.000</td>\n",
       "      <td>0.843</td>\n",
       "      <td>0.900</td>\n",
       "      <td>Positive</td>\n",
       "      <td>81.0</td>\n",
       "      <td>-0.38353167</td>\n",
       "      <td>chic design clean boutique conveniently locate...</td>\n",
       "      <td>5</td>\n",
       "    </tr>\n",
       "  </tbody>\n",
       "</table>\n",
       "</div>"
      ],
      "text/plain": [
       "          Hotel reviewer_name    country clean countries  rating date_of_stay  \\\n",
       "0  9Brick_Hotel  ChristelleNg  Singapore       Singapore     4.0       22-Dec   \n",
       "1  9Brick_Hotel      Molly123        NaN             NaN     1.0       22-Dec   \n",
       "2  9Brick_Hotel   wamysdottir    Denmark         Danmark     4.0       19-Oct   \n",
       "\n",
       "  date_review_written                                      clean_reviews  \\\n",
       "0              23-Jan  Love the look Location not too bad. Near the H...   \n",
       "1              22-Dec  Very bad experience I asked the hotel to provi...   \n",
       "2              20-Apr  Chic design A clean boutique hotel convenientl...   \n",
       "\n",
       "   clean_reviews Positive Sentiment Score  \\\n",
       "0                                   0.184   \n",
       "1                                   0.154   \n",
       "2                                   0.157   \n",
       "\n",
       "   clean_reviews Negative Sentiment Score  \\\n",
       "0                                   0.092   \n",
       "1                                   0.156   \n",
       "2                                   0.000   \n",
       "\n",
       "   clean_reviews Neutral Sentiment Score  \\\n",
       "0                                  0.724   \n",
       "1                                  0.690   \n",
       "2                                  0.843   \n",
       "\n",
       "  clean_reviews Compound Sentiment Score sentiment  word_count  \\\n",
       "0                                 0.654   Positive        48.0   \n",
       "1                                -0.275    Neutral        51.0   \n",
       "2                                 0.900   Positive        81.0   \n",
       "\n",
       "  word_count_scaled                               preprocessed_reviews  \\\n",
       "0      -0.659063128  love look location bad station comfortable bed...   \n",
       "1      -0.634014814  bad experience ask provide set comfort refuse ...   \n",
       "2       -0.38353167  chic design clean boutique conveniently locate...   \n",
       "\n",
       "  topic_label  \n",
       "0           5  \n",
       "1           2  \n",
       "2           5  "
      ]
     },
     "execution_count": 39,
     "metadata": {},
     "output_type": "execute_result"
    }
   ],
   "source": [
    "data.head(3)"
   ]
  },
  {
   "cell_type": "code",
   "execution_count": 40,
   "id": "de9220a2",
   "metadata": {
    "ExecuteTime": {
     "end_time": "2023-04-04T06:02:53.410821Z",
     "start_time": "2023-04-04T06:02:53.395829Z"
    }
   },
   "outputs": [],
   "source": [
    "nationality = data[\"clean countries\"].value_counts()[:15]"
   ]
  },
  {
   "cell_type": "code",
   "execution_count": 41,
   "id": "05b408c8",
   "metadata": {
    "ExecuteTime": {
     "end_time": "2023-04-04T06:02:59.934303Z",
     "start_time": "2023-04-04T06:02:53.955329Z"
    }
   },
   "outputs": [
    {
     "data": {
      "image/png": "[encoded data removed]",
      "text/plain": [
       "<Figure size 864x576 with 1 Axes>"
      ]
     },
     "metadata": {
      "needs_background": "light"
     },
     "output_type": "display_data"
    }
   ],
   "source": [
    "plt.figure(figsize=(12,8))\n",
    "ax = sns.barplot(nationality.index, nationality.values, palette= \"rocket\")\n",
    "ax.bar_label(ax.containers[0])\n",
    "plt.xticks(rotation=90)\n",
    "plt.savefig('Reviewer_Analysis.png',dpi=1200)"
   ]
  },
  {
   "cell_type": "markdown",
   "id": "8c1ec834",
   "metadata": {},
   "source": [
    "#### Analysing the number of reviews and the average rating by nationality of the reviewer. \n",
    "\n",
    "This can help you identify whether there are any significant differences in the reviews based on the nationality of the reviewer.\n"
   ]
  },
  {
   "cell_type": "code",
   "execution_count": 42,
   "id": "8b79bb2a",
   "metadata": {
    "ExecuteTime": {
     "end_time": "2023-04-04T06:03:00.053982Z",
     "start_time": "2023-04-04T06:03:00.027054Z"
    }
   },
   "outputs": [],
   "source": [
    "# Group the data by nationality and calculate the number of reviews and average rating\n",
    "result = data.groupby('clean countries').agg({'clean_reviews': 'count', 'rating': 'mean'}).sort_values(\"clean_reviews\",ascending=False)"
   ]
  },
  {
   "cell_type": "code",
   "execution_count": 43,
   "id": "38811084",
   "metadata": {
    "ExecuteTime": {
     "end_time": "2023-04-04T06:03:00.143776Z",
     "start_time": "2023-04-04T06:03:00.129779Z"
    }
   },
   "outputs": [
    {
     "data": {
      "text/html": [
       "<div>\n",
       "<style scoped>\n",
       "    .dataframe tbody tr th:only-of-type {\n",
       "        vertical-align: middle;\n",
       "    }\n",
       "\n",
       "    .dataframe tbody tr th {\n",
       "        vertical-align: top;\n",
       "    }\n",
       "\n",
       "    .dataframe thead th {\n",
       "        text-align: right;\n",
       "    }\n",
       "</style>\n",
       "<table border=\"1\" class=\"dataframe\">\n",
       "  <thead>\n",
       "    <tr style=\"text-align: right;\">\n",
       "      <th></th>\n",
       "      <th>num_reviews</th>\n",
       "      <th>avg_rating</th>\n",
       "    </tr>\n",
       "    <tr>\n",
       "      <th>clean countries</th>\n",
       "      <th></th>\n",
       "      <th></th>\n",
       "    </tr>\n",
       "  </thead>\n",
       "  <tbody>\n",
       "    <tr>\n",
       "      <th>United States</th>\n",
       "      <td>8647</td>\n",
       "      <td>4.408003</td>\n",
       "    </tr>\n",
       "    <tr>\n",
       "      <th>Singapore</th>\n",
       "      <td>5940</td>\n",
       "      <td>4.239899</td>\n",
       "    </tr>\n",
       "    <tr>\n",
       "      <th>China</th>\n",
       "      <td>4386</td>\n",
       "      <td>4.158687</td>\n",
       "    </tr>\n",
       "    <tr>\n",
       "      <th>Australia</th>\n",
       "      <td>2540</td>\n",
       "      <td>4.308661</td>\n",
       "    </tr>\n",
       "    <tr>\n",
       "      <th>United Kingdom</th>\n",
       "      <td>2533</td>\n",
       "      <td>4.280695</td>\n",
       "    </tr>\n",
       "    <tr>\n",
       "      <th>South Korea</th>\n",
       "      <td>2046</td>\n",
       "      <td>4.238025</td>\n",
       "    </tr>\n",
       "    <tr>\n",
       "      <th>Canada</th>\n",
       "      <td>1549</td>\n",
       "      <td>4.330536</td>\n",
       "    </tr>\n",
       "    <tr>\n",
       "      <th>Malaysia</th>\n",
       "      <td>1494</td>\n",
       "      <td>4.271754</td>\n",
       "    </tr>\n",
       "    <tr>\n",
       "      <th>Philippines</th>\n",
       "      <td>1473</td>\n",
       "      <td>4.312967</td>\n",
       "    </tr>\n",
       "    <tr>\n",
       "      <th>Thailand</th>\n",
       "      <td>927</td>\n",
       "      <td>4.327940</td>\n",
       "    </tr>\n",
       "  </tbody>\n",
       "</table>\n",
       "</div>"
      ],
      "text/plain": [
       "                 num_reviews  avg_rating\n",
       "clean countries                         \n",
       "United States           8647    4.408003\n",
       "Singapore               5940    4.239899\n",
       "China                   4386    4.158687\n",
       "Australia               2540    4.308661\n",
       "United Kingdom          2533    4.280695\n",
       "South Korea             2046    4.238025\n",
       "Canada                  1549    4.330536\n",
       "Malaysia                1494    4.271754\n",
       "Philippines             1473    4.312967\n",
       "Thailand                 927    4.327940"
      ]
     },
     "execution_count": 43,
     "metadata": {},
     "output_type": "execute_result"
    }
   ],
   "source": [
    "result = result.rename(columns={'clean_reviews': 'num_reviews', 'rating': 'avg_rating'}) \n",
    "result.head(10)"
   ]
  },
  {
   "cell_type": "code",
   "execution_count": 44,
   "id": "d437a160",
   "metadata": {
    "ExecuteTime": {
     "end_time": "2023-04-04T06:03:00.278379Z",
     "start_time": "2023-04-04T06:03:00.221532Z"
    }
   },
   "outputs": [],
   "source": [
    "result.to_excel(\"TripAdvisor_Analysis_countries.xlsx\",sheet_name='EDA3')  "
   ]
  },
  {
   "cell_type": "markdown",
   "id": "61d96d77",
   "metadata": {},
   "source": [
    "#### Analyzing the dates of the reviews to determine if there are any trends in terms of when guests are most likely to visit the hotel."
   ]
  },
  {
   "cell_type": "code",
   "execution_count": 28,
   "id": "f336e314",
   "metadata": {
    "ExecuteTime": {
     "end_time": "2023-03-23T07:19:56.110156Z",
     "start_time": "2023-03-23T07:19:55.879907Z"
    }
   },
   "outputs": [
    {
     "data": {
      "image/png": "[encoded data removed]",
      "text/plain": [
       "<Figure size 432x288 with 1 Axes>"
      ]
     },
     "metadata": {
      "needs_background": "light"
     },
     "output_type": "display_data"
    }
   ],
   "source": [
    "data = data[data[\"date_review_written\"].str.contains(\"Yesterday\")==False]\n",
    "\n",
    "# Convert the date column to a pandas datetime format\n",
    "data[\"date_review_written\"] = pd.to_datetime(data[\"date_review_written\"],errors = 'coerce')\n",
    "\n",
    "# Group the data by month and calculate the average number of reviews per month\n",
    "monthly_reviews = data.groupby(pd.Grouper(key='date_review_written', freq='M')).size().reset_index(name='count')\n",
    "\n",
    "# Plot the trend of monthly reviews\n",
    "plt.plot(monthly_reviews['date_review_written'], monthly_reviews['count'],color=\"brown\")\n",
    "plt.xlabel('Date')\n",
    "plt.ylabel('Number of Reviews')\n",
    "plt.title('Monthly Reviews Trend')\n",
    "plt.show()"
   ]
  },
  {
   "cell_type": "code",
   "execution_count": 29,
   "id": "28f1f2de",
   "metadata": {
    "ExecuteTime": {
     "end_time": "2023-03-23T07:20:05.226301Z",
     "start_time": "2023-03-23T07:20:00.153916Z"
    }
   },
   "outputs": [
    {
     "data": {
      "image/png": "[encoded data removed]",
      "text/plain": [
       "<Figure size 864x432 with 1 Axes>"
      ]
     },
     "metadata": {
      "needs_background": "light"
     },
     "output_type": "display_data"
    }
   ],
   "source": [
    "filtered_df = monthly_reviews.loc[(monthly_reviews['date_review_written'] >= '2012-01-31')\n",
    "                     & (monthly_reviews['date_review_written'] < '2022-12-31')]\n",
    "\n",
    "\n",
    "# Plot the trend of monthly reviews\n",
    "ax = filtered_df.plot(x='date_review_written', y='count', figsize=(12,6), color=\"brown\")\n",
    "xcoords = ['2012-01-31','2013-01-31','2014-01-31','2015-01-31','2016-01-31','2017-01-31',\n",
    "           '2018-01-31','2019-01-31','2020-01-31','2021-01-31','2022-01-31']\n",
    "for xc in xcoords:\n",
    "    plt.axvline(x=xc, color='black', linestyle='--')\n",
    "plt.xlabel('Date')\n",
    "plt.ylabel('Number of Reviews')\n",
    "plt.title('Monthly Reviews Trend')\n",
    "plt.savefig('Monthly Reviews Trend.png',dpi=1200)\n",
    "plt.show()"
   ]
  },
  {
   "cell_type": "code",
   "execution_count": 30,
   "id": "8deef5ec",
   "metadata": {
    "ExecuteTime": {
     "end_time": "2023-03-23T07:20:36.864099Z",
     "start_time": "2023-03-23T07:20:36.622948Z"
    }
   },
   "outputs": [],
   "source": [
    "from statsmodels.tsa.seasonal import seasonal_decompose\n",
    "\n",
    "filtered_df.set_index('date_review_written', inplace=True)\n",
    "\n",
    "analysis = filtered_df[['count']].copy()\n",
    "\n",
    "decompose_result_mult = seasonal_decompose(analysis, model=\"multiplicative\")\n",
    "\n",
    "trend = decompose_result_mult.trend\n",
    "seasonal = decompose_result_mult.seasonal\n",
    "residual = decompose_result_mult.resid"
   ]
  },
  {
   "cell_type": "code",
   "execution_count": 31,
   "id": "826bf0fc",
   "metadata": {
    "ExecuteTime": {
     "end_time": "2023-03-23T07:20:39.894570Z",
     "start_time": "2023-03-23T07:20:37.791986Z"
    }
   },
   "outputs": [
    {
     "data": {
      "text/plain": [
       "<Figure size 1080x720 with 0 Axes>"
      ]
     },
     "metadata": {},
     "output_type": "display_data"
    },
    {
     "data": {
      "image/png": "[encoded data removed]",
      "text/plain": [
       "<Figure size 432x288 with 4 Axes>"
      ]
     },
     "metadata": {
      "needs_background": "light"
     },
     "output_type": "display_data"
    }
   ],
   "source": [
    "plt.figure(figsize=(15,10))\n",
    "decompose_result_mult.plot()\n",
    "plt.savefig('DecompositionReviewsTrend.png',dpi=1200)"
   ]
  },
  {
   "cell_type": "code",
   "execution_count": null,
   "id": "087505bd",
   "metadata": {},
   "outputs": [],
   "source": []
  },
  {
   "cell_type": "code",
   "execution_count": null,
   "id": "5c302bf5",
   "metadata": {},
   "outputs": [],
   "source": []
  },
  {
   "cell_type": "code",
   "execution_count": null,
   "id": "b9cf26d9",
   "metadata": {},
   "outputs": [],
   "source": []
  },
  {
   "cell_type": "code",
   "execution_count": null,
   "id": "b6376220",
   "metadata": {},
   "outputs": [],
   "source": []
  },
  {
   "cell_type": "code",
   "execution_count": null,
   "id": "424b8f97",
   "metadata": {},
   "outputs": [],
   "source": []
  },
  {
   "cell_type": "code",
   "execution_count": null,
   "id": "fb987ca9",
   "metadata": {},
   "outputs": [],
   "source": []
  },
  {
   "cell_type": "code",
   "execution_count": null,
   "id": "88926689",
   "metadata": {},
   "outputs": [],
   "source": []
  },
  {
   "cell_type": "code",
   "execution_count": null,
   "id": "d0dd492d",
   "metadata": {},
   "outputs": [],
   "source": []
  },
  {
   "cell_type": "code",
   "execution_count": null,
   "id": "b9472a8c",
   "metadata": {},
   "outputs": [],
   "source": []
  }
 ],
 "metadata": {
  "kernelspec": {
   "display_name": "Python 3 (ipykernel)",
   "language": "python",
   "name": "python3"
  },
  "language_info": {
   "codemirror_mode": {
    "name": "ipython",
    "version": 3
   },
   "file_extension": ".py",
   "mimetype": "text/x-python",
   "name": "python",
   "nbconvert_exporter": "python",
   "pygments_lexer": "ipython3",
   "version": "3.9.12"
  },
  "varInspector": {
   "cols": {
    "lenName": 16,
    "lenType": 16,
    "lenVar": 40
   },
   "kernels_config": {
    "python": {
     "delete_cmd_postfix": "",
     "delete_cmd_prefix": "del ",
     "library": "var_list.py",
     "varRefreshCmd": "print(var_dic_list())"
    },
    "r": {
     "delete_cmd_postfix": ") ",
     "delete_cmd_prefix": "rm(",
     "library": "var_list.r",
     "varRefreshCmd": "cat(var_dic_list()) "
    }
   },
   "types_to_exclude": [
    "module",
    "function",
    "builtin_function_or_method",
    "instance",
    "_Feature"
   ],
   "window_display": false
  }
 },
 "nbformat": 4,
 "nbformat_minor": 5
}
